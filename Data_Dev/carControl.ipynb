{
 "cells": [
  {
   "cell_type": "code",
   "execution_count": 1,
   "metadata": {},
   "outputs": [],
   "source": [
    "import airsim\n",
    "import numpy as np\n",
    "import cv2\n",
    "\n",
    "def opencv_image(airsim_image):\n",
    "    \"\"\" convert airsim image to opencv from standard image processing\n",
    "    :param airsim_image uncompressed 8-bit color airsim image\n",
    "    :return numpy image (ndarray)\n",
    "    \"\"\"\n",
    "    # get numpy array\n",
    "    img1d = np.frombuffer(airsim_image.image_data_uint8, dtype=np.uint8)\n",
    "\n",
    "    # reshape array to 4 channel image array H X W X 4\n",
    "    I = img1d.reshape(airsim_image.height, airsim_image.width, 4)\n",
    "\n",
    "    # opencv bgr abomination\n",
    "    I = cv2.cvtColor(I, cv2.COLOR_RGB2BGR)\n",
    "\n",
    "    return I\n",
    "\n",
    "\n",
    "def grab(client):\n",
    "    \n",
    "    # get depth image\n",
    "    # D = opencv_image((client.simGetImages([airsim.ImageRequest(\"0\", airsim.ImageType.DepthVis, False, False)])[0]))\n",
    "    \n",
    "    # get infrared image\n",
    "    I = opencv_image((client.simGetImages([airsim.ImageRequest(\"0\", airsim.ImageType.Scene, False, False)])[0]))\n",
    "    \n",
    "    return I\n",
    "    \n",
    "    # get infrared image\n",
    "    #S = opencv_image((client.simGetImages([airsim.ImageRequest(\"0\", airsim.ImageType.Scene, False, False)])[0]))\n",
    "    \n",
    "    # stick them together\n",
    "    #R = np.concatenate((D, I, S), axis=1)\n",
    "    \n",
    "    # return R\n",
    "\n"
   ]
  },
  {
   "cell_type": "code",
   "execution_count": 2,
   "metadata": {},
   "outputs": [
    {
     "name": "stdout",
     "output_type": "stream",
     "text": [
      "Connected!\n",
      "Client Ver:1 (Min Req: 1), Server Ver:1 (Min Req: 1)\n",
      "\n"
     ]
    }
   ],
   "source": [
    "\n",
    "if __name__ == '__main__':\n",
    "#     sim_ip = \"10.67.2.52\"\n",
    "    sim_ip = \"127.0.0.1\"\n",
    "\n",
    "    # connect to the AirSim simulator \n",
    "    client = airsim.CarClient(ip=sim_ip)\n",
    "\n",
    "\n",
    "    # confirm connection succeeded\n",
    "    client.confirmConnection()"
   ]
  },
  {
   "cell_type": "code",
   "execution_count": 3,
   "metadata": {},
   "outputs": [],
   "source": [
    "# enable control from api\n",
    "client.enableApiControl(True)\n"
   ]
  },
  {
   "cell_type": "code",
   "execution_count": 4,
   "metadata": {},
   "outputs": [
    {
     "ename": "KeyboardInterrupt",
     "evalue": "",
     "output_type": "error",
     "traceback": [
      "\u001b[0;31m---------------------------------------------------------------------------\u001b[0m",
      "\u001b[0;31mKeyboardInterrupt\u001b[0m                         Traceback (most recent call last)",
      "\u001b[0;32m<ipython-input-4-7e0a2cd25b73>\u001b[0m in \u001b[0;36m<module>\u001b[0;34m()\u001b[0m\n\u001b[1;32m     14\u001b[0m \u001b[0;34m\u001b[0m\u001b[0m\n\u001b[1;32m     15\u001b[0m \u001b[0;31m#     # wait a bit\u001b[0m\u001b[0;34m\u001b[0m\u001b[0;34m\u001b[0m\u001b[0m\n\u001b[0;32m---> 16\u001b[0;31m     \u001b[0mcv2\u001b[0m\u001b[0;34m.\u001b[0m\u001b[0mwaitKey\u001b[0m\u001b[0;34m(\u001b[0m\u001b[0;36m5\u001b[0m\u001b[0;34m)\u001b[0m\u001b[0;34m\u001b[0m\u001b[0m\n\u001b[0m",
      "\u001b[0;31mKeyboardInterrupt\u001b[0m: "
     ]
    }
   ],
   "source": [
    "car_controls = airsim.CarControls()\n",
    "\n",
    "while True:\n",
    "    # get images\n",
    "    \n",
    "    # set the controls for car\n",
    "    car_controls.throttle = 1\n",
    "    car_controls.steering = 1\n",
    "    client.setCarControls(car_controls)\n",
    "    I = grab(client)\n",
    "\n",
    "#     # show\n",
    "    cv2.imshow('image',I)\n",
    "\n",
    "#     # wait a bit\n",
    "    cv2.waitKey(5)"
   ]
  },
  {
   "cell_type": "code",
   "execution_count": null,
   "metadata": {},
   "outputs": [],
   "source": []
  }
 ],
 "metadata": {
  "kernelspec": {
   "display_name": "Python 2",
   "language": "python",
   "name": "python2"
  },
  "language_info": {
   "codemirror_mode": {
    "name": "ipython",
    "version": 2
   },
   "file_extension": ".py",
   "mimetype": "text/x-python",
   "name": "python",
   "nbconvert_exporter": "python",
   "pygments_lexer": "ipython2",
   "version": "2.7.16"
  }
 },
 "nbformat": 4,
 "nbformat_minor": 2
}
